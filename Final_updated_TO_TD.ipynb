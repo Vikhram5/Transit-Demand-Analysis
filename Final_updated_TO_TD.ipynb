{
 "cells": [
  {
   "cell_type": "code",
   "execution_count": 13,
   "id": "4be7dc63",
   "metadata": {},
   "outputs": [
    {
     "data": {
      "text/plain": [
       "(2298, 3)"
      ]
     },
     "execution_count": 13,
     "metadata": {},
     "output_type": "execute_result"
    }
   ],
   "source": [
    "import pandas as pd\n",
    "route_df=pd.read_csv('final_routes_directions.csv')\n",
    "cols=['Trip_Origin', 'Trip_Destination', 'Direction_Route']\n",
    "route_df=route_df[cols].drop_duplicates()\n",
    "route_df.shape"
   ]
  },
  {
   "cell_type": "code",
   "execution_count": 14,
   "id": "8e6be614",
   "metadata": {
    "scrolled": true
   },
   "outputs": [
    {
     "data": {
      "text/html": [
       "<div>\n",
       "<style scoped>\n",
       "    .dataframe tbody tr th:only-of-type {\n",
       "        vertical-align: middle;\n",
       "    }\n",
       "\n",
       "    .dataframe tbody tr th {\n",
       "        vertical-align: top;\n",
       "    }\n",
       "\n",
       "    .dataframe thead th {\n",
       "        text-align: right;\n",
       "    }\n",
       "</style>\n",
       "<table border=\"1\" class=\"dataframe\">\n",
       "  <thead>\n",
       "    <tr style=\"text-align: right;\">\n",
       "      <th></th>\n",
       "      <th>Trip_Origin</th>\n",
       "      <th>Trip_Destination</th>\n",
       "      <th>Direction_Route</th>\n",
       "    </tr>\n",
       "  </thead>\n",
       "  <tbody>\n",
       "    <tr>\n",
       "      <th>0</th>\n",
       "      <td>VADAPALANI</td>\n",
       "      <td>KOYAMBEDU MARKET</td>\n",
       "      <td>UP</td>\n",
       "    </tr>\n",
       "    <tr>\n",
       "      <th>1</th>\n",
       "      <td>NALLUR</td>\n",
       "      <td>KUNDRATHUR B.S</td>\n",
       "      <td>DOWN</td>\n",
       "    </tr>\n",
       "    <tr>\n",
       "      <th>2</th>\n",
       "      <td>SEMMANCHERI S.C.B</td>\n",
       "      <td>ADYAR (DEPOT)</td>\n",
       "      <td>DOWN</td>\n",
       "    </tr>\n",
       "    <tr>\n",
       "      <th>3</th>\n",
       "      <td>THIRUVANMIYUR</td>\n",
       "      <td>OKK.THORAIPAKM SEC.COLONY</td>\n",
       "      <td>UP</td>\n",
       "    </tr>\n",
       "    <tr>\n",
       "      <th>4</th>\n",
       "      <td>ADYAR B.S</td>\n",
       "      <td>PERUMPAKKAM S.C.B</td>\n",
       "      <td>UP</td>\n",
       "    </tr>\n",
       "    <tr>\n",
       "      <th>...</th>\n",
       "      <td>...</td>\n",
       "      <td>...</td>\n",
       "      <td>...</td>\n",
       "    </tr>\n",
       "    <tr>\n",
       "      <th>277</th>\n",
       "      <td>BESANT NAGAR</td>\n",
       "      <td>GREAMS ROAD</td>\n",
       "      <td>DOWN</td>\n",
       "    </tr>\n",
       "    <tr>\n",
       "      <th>278</th>\n",
       "      <td>THIRUVALLUR</td>\n",
       "      <td>VELLAVEDU</td>\n",
       "      <td>DOWN</td>\n",
       "    </tr>\n",
       "    <tr>\n",
       "      <th>279</th>\n",
       "      <td>THYAGARAYA NAGAR</td>\n",
       "      <td>SAIDAPET (DEPOT)</td>\n",
       "      <td>UP</td>\n",
       "    </tr>\n",
       "    <tr>\n",
       "      <th>280</th>\n",
       "      <td>AVADI</td>\n",
       "      <td>THIRUVALLUR COLLECTOR OFFICE</td>\n",
       "      <td>UP</td>\n",
       "    </tr>\n",
       "    <tr>\n",
       "      <th>281</th>\n",
       "      <td>THIRUVALLUR COLLECTOR OFFICE</td>\n",
       "      <td>AVADI</td>\n",
       "      <td>DOWN</td>\n",
       "    </tr>\n",
       "  </tbody>\n",
       "</table>\n",
       "<p>282 rows × 3 columns</p>\n",
       "</div>"
      ],
      "text/plain": [
       "                      Trip_Origin              Trip_Destination  \\\n",
       "0                      VADAPALANI              KOYAMBEDU MARKET   \n",
       "1                          NALLUR                KUNDRATHUR B.S   \n",
       "2               SEMMANCHERI S.C.B                 ADYAR (DEPOT)   \n",
       "3                   THIRUVANMIYUR     OKK.THORAIPAKM SEC.COLONY   \n",
       "4                       ADYAR B.S             PERUMPAKKAM S.C.B   \n",
       "..                            ...                           ...   \n",
       "277                  BESANT NAGAR                   GREAMS ROAD   \n",
       "278                   THIRUVALLUR                     VELLAVEDU   \n",
       "279              THYAGARAYA NAGAR              SAIDAPET (DEPOT)   \n",
       "280                         AVADI  THIRUVALLUR COLLECTOR OFFICE   \n",
       "281  THIRUVALLUR COLLECTOR OFFICE                         AVADI   \n",
       "\n",
       "    Direction_Route  \n",
       "0                UP  \n",
       "1              DOWN  \n",
       "2              DOWN  \n",
       "3                UP  \n",
       "4                UP  \n",
       "..              ...  \n",
       "277            DOWN  \n",
       "278            DOWN  \n",
       "279              UP  \n",
       "280              UP  \n",
       "281            DOWN  \n",
       "\n",
       "[282 rows x 3 columns]"
      ]
     },
     "execution_count": 14,
     "metadata": {},
     "output_type": "execute_result"
    }
   ],
   "source": [
    "missing_df=pd.read_csv('updated_remaining_stops.csv')\n",
    "\n",
    "missing_df['Trip_Origin']=missing_df['Trip_Origin'].str.upper().str.split().str.join(' ')\n",
    "missing_df['Trip_Destination']=missing_df['Trip_Destination'].str.upper().str.split().str.join(' ')\n",
    "missing_df['Direction_Route']=missing_df['Direction_Route'].str.upper().str.split().str.join(' ')\n",
    "missing_df = missing_df.drop(columns=['Unnamed: 0'])\n",
    "\n",
    "missing_df=missing_df.drop_duplicates()\n",
    "missing_df"
   ]
  },
  {
   "cell_type": "code",
   "execution_count": 15,
   "id": "be2d9d19",
   "metadata": {},
   "outputs": [
    {
     "data": {
      "text/plain": [
       "(2298, 3)"
      ]
     },
     "execution_count": 15,
     "metadata": {},
     "output_type": "execute_result"
    }
   ],
   "source": [
    "final_route_df=pd.concat([route_df, missing_df], ignore_index=True)\n",
    "final_route_df=final_route_df.drop_duplicates()\n",
    "final_route_df.shape\n",
    "\n",
    "duplicate_routes = final_route_df.duplicated(subset=['Trip_Origin', 'Trip_Destination'], keep=False)\n",
    "final_route_df[duplicate_routes]\n",
    "\n",
    "final_route_df.to_csv('final_routes_directions.csv')\n",
    "\n",
    "final_route_df.shape"
   ]
  },
  {
   "cell_type": "code",
   "execution_count": null,
   "id": "117a84ee",
   "metadata": {},
   "outputs": [],
   "source": []
  },
  {
   "cell_type": "code",
   "execution_count": null,
   "id": "b45b78e5",
   "metadata": {},
   "outputs": [],
   "source": []
  },
  {
   "cell_type": "code",
   "execution_count": null,
   "id": "5498ea7d",
   "metadata": {},
   "outputs": [],
   "source": []
  },
  {
   "cell_type": "code",
   "execution_count": null,
   "id": "d340e84c",
   "metadata": {},
   "outputs": [],
   "source": []
  },
  {
   "cell_type": "code",
   "execution_count": null,
   "id": "f0baa9ae",
   "metadata": {},
   "outputs": [],
   "source": []
  },
  {
   "cell_type": "code",
   "execution_count": null,
   "id": "98d5cb1d",
   "metadata": {},
   "outputs": [],
   "source": []
  }
 ],
 "metadata": {
  "kernelspec": {
   "display_name": "Python 3 (ipykernel)",
   "language": "python",
   "name": "python3"
  },
  "language_info": {
   "codemirror_mode": {
    "name": "ipython",
    "version": 3
   },
   "file_extension": ".py",
   "mimetype": "text/x-python",
   "name": "python",
   "nbconvert_exporter": "python",
   "pygments_lexer": "ipython3",
   "version": "3.11.5"
  }
 },
 "nbformat": 4,
 "nbformat_minor": 5
}
