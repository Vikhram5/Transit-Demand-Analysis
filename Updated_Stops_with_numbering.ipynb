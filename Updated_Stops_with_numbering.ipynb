{
 "cells": [
  {
   "cell_type": "code",
   "execution_count": 3,
   "id": "cab0945e",
   "metadata": {
    "scrolled": true
   },
   "outputs": [],
   "source": [
    "import pandas as pd\n",
    "temp_df=pd.read_excel('STOP NUMBERING AND CENTROID NUMBERING.xlsx')\n",
    "temp_df.to_csv('stops_centroid_numbering.csv')"
   ]
  },
  {
   "cell_type": "code",
   "execution_count": 2,
   "id": "14a1fa33",
   "metadata": {
    "scrolled": true
   },
   "outputs": [
    {
     "data": {
      "text/html": [
       "<div>\n",
       "<style scoped>\n",
       "    .dataframe tbody tr th:only-of-type {\n",
       "        vertical-align: middle;\n",
       "    }\n",
       "\n",
       "    .dataframe tbody tr th {\n",
       "        vertical-align: top;\n",
       "    }\n",
       "\n",
       "    .dataframe thead th {\n",
       "        text-align: right;\n",
       "    }\n",
       "</style>\n",
       "<table border=\"1\" class=\"dataframe\">\n",
       "  <thead>\n",
       "    <tr style=\"text-align: right;\">\n",
       "      <th></th>\n",
       "      <th>STOP.NO</th>\n",
       "      <th>STOP NAME</th>\n",
       "      <th>STOP LAT</th>\n",
       "      <th>STOP LONG</th>\n",
       "      <th>DIRECTION</th>\n",
       "      <th>CENTROID NUMBERING</th>\n",
       "    </tr>\n",
       "  </thead>\n",
       "  <tbody>\n",
       "    <tr>\n",
       "      <th>0</th>\n",
       "      <td>10001.0</td>\n",
       "      <td>High Court</td>\n",
       "      <td>13.085009</td>\n",
       "      <td>80.283447</td>\n",
       "      <td>Down</td>\n",
       "      <td>1.0</td>\n",
       "    </tr>\n",
       "    <tr>\n",
       "      <th>1</th>\n",
       "      <td>10002.0</td>\n",
       "      <td>Flower Bazzar</td>\n",
       "      <td>13.087507</td>\n",
       "      <td>80.281419</td>\n",
       "      <td>Up</td>\n",
       "      <td>2.0</td>\n",
       "    </tr>\n",
       "    <tr>\n",
       "      <th>2</th>\n",
       "      <td>10003.0</td>\n",
       "      <td>Broadway</td>\n",
       "      <td>13.088206</td>\n",
       "      <td>80.283890</td>\n",
       "      <td>Down</td>\n",
       "      <td>3.0</td>\n",
       "    </tr>\n",
       "    <tr>\n",
       "      <th>3</th>\n",
       "      <td>10003.0</td>\n",
       "      <td>Broadway</td>\n",
       "      <td>13.088206</td>\n",
       "      <td>80.283890</td>\n",
       "      <td>Up</td>\n",
       "      <td>3.0</td>\n",
       "    </tr>\n",
       "    <tr>\n",
       "      <th>4</th>\n",
       "      <td>10004.0</td>\n",
       "      <td>Flower Bazzar</td>\n",
       "      <td>13.088298</td>\n",
       "      <td>80.281341</td>\n",
       "      <td>Up</td>\n",
       "      <td>2.0</td>\n",
       "    </tr>\n",
       "  </tbody>\n",
       "</table>\n",
       "</div>"
      ],
      "text/plain": [
       "   STOP.NO      STOP NAME   STOP LAT  STOP LONG DIRECTION  CENTROID NUMBERING\n",
       "0  10001.0     High Court  13.085009  80.283447      Down                 1.0\n",
       "1  10002.0  Flower Bazzar  13.087507  80.281419        Up                 2.0\n",
       "2  10003.0       Broadway  13.088206  80.283890      Down                 3.0\n",
       "3  10003.0       Broadway  13.088206  80.283890        Up                 3.0\n",
       "4  10004.0  Flower Bazzar  13.088298  80.281341        Up                 2.0"
      ]
     },
     "execution_count": 2,
     "metadata": {},
     "output_type": "execute_result"
    }
   ],
   "source": [
    "\n",
    "stops_df=pd.read_csv('remaining_stops_numbering.csv')\n",
    "stops_df = stops_df.drop(columns=['Unnamed: 0'])\n",
    "stops_df.head()"
   ]
  },
  {
   "cell_type": "code",
   "execution_count": 28,
   "id": "312c1279",
   "metadata": {
    "scrolled": true
   },
   "outputs": [
    {
     "data": {
      "text/plain": [
       "Index(['id', 'depot_code', 'depot', 'fleet_no', 'route_service_type',\n",
       "       'trip_no', 'ticket_no', 'date', 'time', 'ticket_type', 'source',\n",
       "       'source_stop_no', 'source_zonal_centroid_number', 'destination',\n",
       "       'destination_stop_no', 'destination_zonal_centroid_number',\n",
       "       'passenger_count', 'luggage_count', 'passenger_amount',\n",
       "       'luggage_amount', 'driver_no', 'conductor_no', 'waybill_no',\n",
       "       'schedule_no', 'payment_type', 'direction', 'Trip_Origin',\n",
       "       'Trip_Destination', 'total_ticket_amount', 'KM', 'duty_date',\n",
       "       'Direction_route'],\n",
       "      dtype='object')"
      ]
     },
     "execution_count": 28,
     "metadata": {},
     "output_type": "execute_result"
    }
   ],
   "source": [
    "ticket_df=pd.read_csv('./Final_ETM_Data/Final_Ticket_data_2024-07-01.csv')\n",
    "ticket_df.columns"
   ]
  },
  {
   "cell_type": "code",
   "execution_count": 29,
   "id": "05e6d9e8",
   "metadata": {
    "scrolled": true
   },
   "outputs": [],
   "source": [
    "stops_df = stops_df.drop_duplicates(subset='Stop Name')\n",
    "\n",
    "# Merge ticket_df with stops_df to fill missing source_stop_no\n",
    "ticket_df = ticket_df.merge(\n",
    "    stops_df[['STOP.NO', 'Stop Name']],\n",
    "    how='left',\n",
    "    left_on='source',\n",
    "    right_on='Stop Name'\n",
    ").rename(columns={'STOP.NO': 'source_stop_no_temp'})\n",
    "\n",
    "# Merge again for missing destination_stop_no\n",
    "ticket_df = ticket_df.merge(\n",
    "    stops_df[['STOP.NO', 'Stop Name']],\n",
    "    how='left',\n",
    "    left_on='destination',\n",
    "    right_on='Stop Name'\n",
    ").rename(columns={'STOP.NO': 'destination_stop_no_temp'})\n",
    "\n",
    "# Update missing values for source_stop_no and destination_stop_no\n",
    "ticket_df['source_stop_no'] = ticket_df['source_stop_no'].fillna(ticket_df['source_stop_no_temp'])\n",
    "ticket_df['destination_stop_no'] = ticket_df['destination_stop_no'].fillna(ticket_df['destination_stop_no_temp'])\n",
    "\n",
    "# Drop temporary columns used for merging\n",
    "ticket_df = ticket_df.drop(columns=['source_stop_no_temp', 'destination_stop_no_temp', 'Stop Name_x', 'Stop Name_y'], errors='ignore')\n",
    "\n",
    "ticket_df.to_csv('Updated_file_with_stops.csv')"
   ]
  },
  {
   "cell_type": "code",
   "execution_count": 30,
   "id": "a0701701",
   "metadata": {},
   "outputs": [
    {
     "name": "stdout",
     "output_type": "stream",
     "text": [
      "1171\n"
     ]
    }
   ],
   "source": [
    "ticket_df=pd.read_csv('Updated_file(with stops).csv')\n",
    "#number of sources in etm file\n",
    "source_list=ticket_df['source'].str.upper().unique()\n",
    "print(len(source_list))"
   ]
  },
  {
   "cell_type": "code",
   "execution_count": 31,
   "id": "d176ad7a",
   "metadata": {},
   "outputs": [
    {
     "name": "stdout",
     "output_type": "stream",
     "text": [
      "1168\n"
     ]
    }
   ],
   "source": [
    "destination_list=ticket_df['destination'].str.upper().unique()\n",
    "print(len(destination_list))"
   ]
  },
  {
   "cell_type": "code",
   "execution_count": 32,
   "id": "26fef50f",
   "metadata": {},
   "outputs": [
    {
     "name": "stdout",
     "output_type": "stream",
     "text": [
      "917\n"
     ]
    }
   ],
   "source": [
    "stop_list=stops_df['Stop Name'].unique()\n",
    "source_arr=[]\n",
    "source_count=0\n",
    "for name in source_list:\n",
    "    if name in stop_list: \n",
    "        source_count+=1\n",
    "    else:\n",
    "        source_arr.append(name)\n",
    "        \n",
    "print(len(source_arr))"
   ]
  },
  {
   "cell_type": "code",
   "execution_count": 33,
   "id": "9de77564",
   "metadata": {},
   "outputs": [
    {
     "name": "stdout",
     "output_type": "stream",
     "text": [
      "255\n"
     ]
    }
   ],
   "source": [
    "dest_arr=[]\n",
    "dest_count=0\n",
    "for name in destination_list:\n",
    "    if name in stop_list: \n",
    "        dest_count+=1\n",
    "    else:\n",
    "        dest_arr.append(name)\n",
    "\n",
    "print(dest_count)"
   ]
  },
  {
   "cell_type": "code",
   "execution_count": null,
   "id": "b186fc4e",
   "metadata": {},
   "outputs": [],
   "source": []
  },
  {
   "cell_type": "code",
   "execution_count": null,
   "id": "a4633923",
   "metadata": {},
   "outputs": [],
   "source": []
  },
  {
   "cell_type": "code",
   "execution_count": null,
   "id": "18821107",
   "metadata": {},
   "outputs": [],
   "source": []
  }
 ],
 "metadata": {
  "kernelspec": {
   "display_name": "Python 3 (ipykernel)",
   "language": "python",
   "name": "python3"
  },
  "language_info": {
   "codemirror_mode": {
    "name": "ipython",
    "version": 3
   },
   "file_extension": ".py",
   "mimetype": "text/x-python",
   "name": "python",
   "nbconvert_exporter": "python",
   "pygments_lexer": "ipython3",
   "version": "3.11.5"
  }
 },
 "nbformat": 4,
 "nbformat_minor": 5
}
