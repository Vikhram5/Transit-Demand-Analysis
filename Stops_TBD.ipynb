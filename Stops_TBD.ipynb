{
 "cells": [
  {
   "cell_type": "code",
   "execution_count": 3,
   "id": "caf8b3ce",
   "metadata": {},
   "outputs": [
    {
     "name": "stdout",
     "output_type": "stream",
     "text": [
      "Saved: Stop_Numbering/stop_numbering_01.csv\n"
     ]
    }
   ],
   "source": [
    "import pandas as pd\n",
    "import os\n",
    "\n",
    "# Define folder name and create it if it doesn't exist\n",
    "folder_name = \"Stop_Numbering\"\n",
    "os.makedirs(folder_name, exist_ok=True)\n",
    "\n",
    "# Loop through all dates from 1 to 31\n",
    "for date in range(1, 2):\n",
    "    # Format date as a two-digit string (e.g., 01, 02, ..., 31)\n",
    "    date_str = f\"{date:02d}\"\n",
    "\n",
    "    # Read the CSV file for the given date\n",
    "    file_path = f'Latest_ETM_Data/Final_Ticket_data_2024-07-{date_str}.csv'\n",
    "    try:\n",
    "        df = pd.read_csv(file_path)\n",
    "    except FileNotFoundError:\n",
    "        print(f\"File not found: {file_path}\")\n",
    "        continue\n",
    "\n",
    "    # Select required columns\n",
    "    cols = ['source', 'source_stop_no', 'destination', 'destination_stop_no', 'Direction_route']\n",
    "    df = df[cols]\n",
    "\n",
    "    # Process source data\n",
    "    source_cols = ['source', 'source_stop_no', 'Direction_route']\n",
    "    source_df = df[source_cols]\n",
    "    source_df = source_df.rename(columns={'source': 'stop', 'source_stop_no': 'stop_no'})\n",
    "    source_df = source_df[source_df['stop_no'].isna()].drop_duplicates()\n",
    "\n",
    "    # Process destination data\n",
    "    destination_cols = ['destination', 'destination_stop_no', 'Direction_route']\n",
    "    destination_df = df[destination_cols]\n",
    "    destination_df = destination_df.rename(columns={'destination': 'stop', 'destination_stop_no': 'stop_no'})\n",
    "    destination_df = destination_df[destination_df['stop_no'].isna()].drop_duplicates()\n",
    "\n",
    "    # Combine source and destination DataFrames\n",
    "    combined_df = pd.concat([source_df, destination_df], ignore_index=True).drop_duplicates()\n",
    "\n",
    "    # Save the combined DataFrame to a CSV file\n",
    "    combined_file_path = f\"{folder_name}/stop_numbering_{date_str}.csv\"\n",
    "    combined_df.to_csv(combined_file_path, index=False)\n",
    "    print(f\"Saved: {combined_file_path}\")"
   ]
  },
  {
   "cell_type": "code",
   "execution_count": null,
   "id": "de74627a",
   "metadata": {},
   "outputs": [],
   "source": []
  },
  {
   "cell_type": "code",
   "execution_count": null,
   "id": "357903a8",
   "metadata": {},
   "outputs": [],
   "source": []
  }
 ],
 "metadata": {
  "kernelspec": {
   "display_name": "Python 3 (ipykernel)",
   "language": "python",
   "name": "python3"
  },
  "language_info": {
   "codemirror_mode": {
    "name": "ipython",
    "version": 3
   },
   "file_extension": ".py",
   "mimetype": "text/x-python",
   "name": "python",
   "nbconvert_exporter": "python",
   "pygments_lexer": "ipython3",
   "version": "3.11.5"
  }
 },
 "nbformat": 4,
 "nbformat_minor": 5
}
