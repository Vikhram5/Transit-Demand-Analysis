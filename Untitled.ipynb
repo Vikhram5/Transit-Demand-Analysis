{
 "cells": [
  {
   "cell_type": "code",
   "execution_count": 3,
   "id": "668a6ac1",
   "metadata": {},
   "outputs": [
    {
     "ename": "KeyboardInterrupt",
     "evalue": "",
     "output_type": "error",
     "traceback": [
      "\u001b[0;31m---------------------------------------------------------------------------\u001b[0m",
      "\u001b[0;31mKeyboardInterrupt\u001b[0m                         Traceback (most recent call last)",
      "\u001b[0;31mKeyboardInterrupt\u001b[0m: "
     ]
    }
   ],
   "source": [
    "#combining the values and storing it in a dataframe\n",
    "#for all the dates from 01 to 31 - latest etm files \n",
    "import pandas as pd\n",
    "import os\n",
    "\n",
    "folder_name = \"Stop_Numbering\"\n",
    "updated_df = pd.DataFrame()\n",
    "\n",
    "for date in range(1, 32):\n",
    "    date_str = f\"{date:02}\"  # Format date as two digits (e.g., 01, 02, ..., 31)\n",
    "    file_path = f'Stop_Numbering/stop_numbering_{date_str}.csv'\n",
    "    \n",
    "    if os.path.exists(file_path):  # Check if file exists\n",
    "        print(f\"Reading file: {file_path}\")\n",
    "        temp_df = pd.read_csv(file_path)\n",
    "        updated_df = pd.concat([updated_df, temp_df], ignore_index=True)\n",
    "    else:\n",
    "        print(f\"File not found for 2024-07-{date_str}, skipping.\")\n",
    "\n",
    "updated_df = updated_df.drop_duplicates()\n",
    "combined_file_path = f\"{folder_name}/Combined_stop_numbering.csv\"\n",
    "updated_df.to_csv(combined_file_path, index=False)\n"
   ]
  },
  {
   "cell_type": "code",
   "execution_count": null,
   "id": "6741930f",
   "metadata": {},
   "outputs": [],
   "source": [
    "updated_df.shape"
   ]
  },
  {
   "cell_type": "code",
   "execution_count": null,
   "id": "9e2436c3",
   "metadata": {},
   "outputs": [],
   "source": []
  },
  {
   "cell_type": "code",
   "execution_count": null,
   "id": "6e0cb1eb",
   "metadata": {},
   "outputs": [],
   "source": []
  },
  {
   "cell_type": "code",
   "execution_count": null,
   "id": "ba50ac62",
   "metadata": {},
   "outputs": [],
   "source": []
  }
 ],
 "metadata": {
  "kernelspec": {
   "display_name": "Python 3 (ipykernel)",
   "language": "python",
   "name": "python3"
  },
  "language_info": {
   "codemirror_mode": {
    "name": "ipython",
    "version": 3
   },
   "file_extension": ".py",
   "mimetype": "text/x-python",
   "name": "python",
   "nbconvert_exporter": "python",
   "pygments_lexer": "ipython3",
   "version": "3.11.5"
  }
 },
 "nbformat": 4,
 "nbformat_minor": 5
}
